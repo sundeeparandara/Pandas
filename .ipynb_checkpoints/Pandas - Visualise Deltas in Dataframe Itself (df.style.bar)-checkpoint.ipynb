{
 "cells": [
  {
   "cell_type": "code",
   "execution_count": 1,
   "id": "85a22c4b",
   "metadata": {},
   "outputs": [],
   "source": [
    "import pandas as pd\n",
    "import numpy as np"
   ]
  },
  {
   "cell_type": "code",
   "execution_count": 2,
   "id": "ea56b4d7",
   "metadata": {},
   "outputs": [],
   "source": [
    "df_c = pd.read_csv('stock-python-for-geeks.csv',squeeze=True)"
   ]
  },
  {
   "cell_type": "code",
   "execution_count": 3,
   "id": "f37d9372",
   "metadata": {},
   "outputs": [],
   "source": [
    "df_c.columns = ['Close']"
   ]
  },
  {
   "cell_type": "code",
   "execution_count": 4,
   "id": "7fc8f27c",
   "metadata": {
    "scrolled": true
   },
   "outputs": [
    {
     "data": {
      "text/plain": [
       "0    50.12\n",
       "1    54.10\n",
       "Name: Stock Price, dtype: float64"
      ]
     },
     "execution_count": 4,
     "metadata": {},
     "output_type": "execute_result"
    }
   ],
   "source": [
    "df_c.head(2)"
   ]
  },
  {
   "cell_type": "code",
   "execution_count": 5,
   "id": "5e1031f9",
   "metadata": {},
   "outputs": [],
   "source": [
    "def set_open(num):\n",
    "    return np.random.normal(num,2)"
   ]
  },
  {
   "cell_type": "code",
   "execution_count": 6,
   "id": "4cdfbc30",
   "metadata": {
    "scrolled": true
   },
   "outputs": [
    {
     "data": {
      "text/plain": [
       "0    51.153637\n",
       "1    56.899920\n",
       "Name: Stock Price, dtype: float64"
      ]
     },
     "execution_count": 6,
     "metadata": {},
     "output_type": "execute_result"
    }
   ],
   "source": [
    "df_o = df_c.apply(set_open)\n",
    "df_o.head(2)"
   ]
  },
  {
   "cell_type": "code",
   "execution_count": 7,
   "id": "0d4f0706",
   "metadata": {},
   "outputs": [],
   "source": [
    "df = pd.concat([df_o,df_c],axis=1)\n",
    "df.columns = ['Open','Close']"
   ]
  },
  {
   "cell_type": "code",
   "execution_count": 8,
   "id": "4b78de04",
   "metadata": {},
   "outputs": [
    {
     "data": {
      "text/html": [
       "<div>\n",
       "<style scoped>\n",
       "    .dataframe tbody tr th:only-of-type {\n",
       "        vertical-align: middle;\n",
       "    }\n",
       "\n",
       "    .dataframe tbody tr th {\n",
       "        vertical-align: top;\n",
       "    }\n",
       "\n",
       "    .dataframe thead th {\n",
       "        text-align: right;\n",
       "    }\n",
       "</style>\n",
       "<table border=\"1\" class=\"dataframe\">\n",
       "  <thead>\n",
       "    <tr style=\"text-align: right;\">\n",
       "      <th></th>\n",
       "      <th>Open</th>\n",
       "      <th>Close</th>\n",
       "    </tr>\n",
       "  </thead>\n",
       "  <tbody>\n",
       "    <tr>\n",
       "      <th>0</th>\n",
       "      <td>51.153637</td>\n",
       "      <td>50.12</td>\n",
       "    </tr>\n",
       "    <tr>\n",
       "      <th>1</th>\n",
       "      <td>56.899920</td>\n",
       "      <td>54.10</td>\n",
       "    </tr>\n",
       "  </tbody>\n",
       "</table>\n",
       "</div>"
      ],
      "text/plain": [
       "        Open  Close\n",
       "0  51.153637  50.12\n",
       "1  56.899920  54.10"
      ]
     },
     "execution_count": 8,
     "metadata": {},
     "output_type": "execute_result"
    }
   ],
   "source": [
    "df.head(2)"
   ]
  },
  {
   "cell_type": "code",
   "execution_count": 9,
   "id": "4bc8b4da",
   "metadata": {},
   "outputs": [],
   "source": [
    "df[\"Delta\"] = df[\"Close\"] - df[\"Open\"]"
   ]
  },
  {
   "cell_type": "code",
   "execution_count": 10,
   "id": "b8fc36db",
   "metadata": {
    "scrolled": true
   },
   "outputs": [
    {
     "data": {
      "text/html": [
       "<div>\n",
       "<style scoped>\n",
       "    .dataframe tbody tr th:only-of-type {\n",
       "        vertical-align: middle;\n",
       "    }\n",
       "\n",
       "    .dataframe tbody tr th {\n",
       "        vertical-align: top;\n",
       "    }\n",
       "\n",
       "    .dataframe thead th {\n",
       "        text-align: right;\n",
       "    }\n",
       "</style>\n",
       "<table border=\"1\" class=\"dataframe\">\n",
       "  <thead>\n",
       "    <tr style=\"text-align: right;\">\n",
       "      <th></th>\n",
       "      <th>Open</th>\n",
       "      <th>Close</th>\n",
       "      <th>Delta</th>\n",
       "    </tr>\n",
       "  </thead>\n",
       "  <tbody>\n",
       "    <tr>\n",
       "      <th>0</th>\n",
       "      <td>51.153637</td>\n",
       "      <td>50.12</td>\n",
       "      <td>-1.033637</td>\n",
       "    </tr>\n",
       "    <tr>\n",
       "      <th>1</th>\n",
       "      <td>56.899920</td>\n",
       "      <td>54.10</td>\n",
       "      <td>-2.799920</td>\n",
       "    </tr>\n",
       "  </tbody>\n",
       "</table>\n",
       "</div>"
      ],
      "text/plain": [
       "        Open  Close     Delta\n",
       "0  51.153637  50.12 -1.033637\n",
       "1  56.899920  54.10 -2.799920"
      ]
     },
     "execution_count": 10,
     "metadata": {},
     "output_type": "execute_result"
    }
   ],
   "source": [
    "df.head(2)"
   ]
  },
  {
   "cell_type": "markdown",
   "id": "94f7d60f",
   "metadata": {},
   "source": [
    "https://pandas.pydata.org/pandas-docs/stable/style.html"
   ]
  },
  {
   "cell_type": "code",
   "execution_count": 11,
   "id": "4b30992a",
   "metadata": {},
   "outputs": [
    {
     "data": {
      "text/html": [
       "<style  type=\"text/css\" >\n",
       "#T_c57d5_row0_col2{\n",
       "            width:  10em;\n",
       "             height:  80%;\n",
       "            background:  linear-gradient(90deg, transparent 36.5%, #d65f5f 36.5%, #d65f5f 50.8%, transparent 50.8%);\n",
       "        }#T_c57d5_row1_col2{\n",
       "            width:  10em;\n",
       "             height:  80%;\n",
       "            background:  linear-gradient(90deg, transparent 12.1%, #d65f5f 12.1%, #d65f5f 50.8%, transparent 50.8%);\n",
       "        }#T_c57d5_row2_col2{\n",
       "            width:  10em;\n",
       "             height:  80%;\n",
       "            background:  linear-gradient(90deg, transparent 50.8%, #5fba7d 50.8%, #5fba7d 59.4%, transparent 59.4%);\n",
       "        }#T_c57d5_row3_col2{\n",
       "            width:  10em;\n",
       "             height:  80%;\n",
       "            background:  linear-gradient(90deg, transparent 2.8%, #d65f5f 2.8%, #d65f5f 50.8%, transparent 50.8%);\n",
       "        }#T_c57d5_row4_col2{\n",
       "            width:  10em;\n",
       "             height:  80%;\n",
       "            background:  linear-gradient(90deg, transparent 50.8%, #5fba7d 50.8%, #5fba7d 100.0%, transparent 100.0%);\n",
       "        }#T_c57d5_row5_col2{\n",
       "            width:  10em;\n",
       "             height:  80%;\n",
       "            background:  linear-gradient(90deg, transparent 50.8%, #5fba7d 50.8%, #5fba7d 64.4%, transparent 64.4%);\n",
       "        }#T_c57d5_row6_col2{\n",
       "            width:  10em;\n",
       "             height:  80%;\n",
       "            background:  linear-gradient(90deg,#d65f5f 50.8%, transparent 50.8%);\n",
       "        }#T_c57d5_row7_col2{\n",
       "            width:  10em;\n",
       "             height:  80%;\n",
       "            background:  linear-gradient(90deg, transparent 32.0%, #d65f5f 32.0%, #d65f5f 50.8%, transparent 50.8%);\n",
       "        }#T_c57d5_row8_col2{\n",
       "            width:  10em;\n",
       "             height:  80%;\n",
       "            background:  linear-gradient(90deg, transparent 50.8%, #5fba7d 50.8%, #5fba7d 66.7%, transparent 66.7%);\n",
       "        }#T_c57d5_row9_col2{\n",
       "            width:  10em;\n",
       "             height:  80%;\n",
       "            background:  linear-gradient(90deg, transparent 42.8%, #d65f5f 42.8%, #d65f5f 50.8%, transparent 50.8%);\n",
       "        }</style><table id=\"T_c57d5_\" ><thead>    <tr>        <th class=\"blank level0\" ></th>        <th class=\"col_heading level0 col0\" >Open</th>        <th class=\"col_heading level0 col1\" >Close</th>        <th class=\"col_heading level0 col2\" >Delta</th>    </tr></thead><tbody>\n",
       "                <tr>\n",
       "                        <th id=\"T_c57d5_level0_row0\" class=\"row_heading level0 row0\" >0</th>\n",
       "                        <td id=\"T_c57d5_row0_col0\" class=\"data row0 col0\" >51.153637</td>\n",
       "                        <td id=\"T_c57d5_row0_col1\" class=\"data row0 col1\" >50.120000</td>\n",
       "                        <td id=\"T_c57d5_row0_col2\" class=\"data row0 col2\" >-1.033637</td>\n",
       "            </tr>\n",
       "            <tr>\n",
       "                        <th id=\"T_c57d5_level0_row1\" class=\"row_heading level0 row1\" >1</th>\n",
       "                        <td id=\"T_c57d5_row1_col0\" class=\"data row1 col0\" >56.899920</td>\n",
       "                        <td id=\"T_c57d5_row1_col1\" class=\"data row1 col1\" >54.100000</td>\n",
       "                        <td id=\"T_c57d5_row1_col2\" class=\"data row1 col2\" >-2.799920</td>\n",
       "            </tr>\n",
       "            <tr>\n",
       "                        <th id=\"T_c57d5_level0_row2\" class=\"row_heading level0 row2\" >2</th>\n",
       "                        <td id=\"T_c57d5_row2_col0\" class=\"data row2 col0\" >54.031967</td>\n",
       "                        <td id=\"T_c57d5_row2_col1\" class=\"data row2 col1\" >54.650000</td>\n",
       "                        <td id=\"T_c57d5_row2_col2\" class=\"data row2 col2\" >0.618033</td>\n",
       "            </tr>\n",
       "            <tr>\n",
       "                        <th id=\"T_c57d5_level0_row3\" class=\"row_heading level0 row3\" >3</th>\n",
       "                        <td id=\"T_c57d5_row3_col0\" class=\"data row3 col0\" >55.853153</td>\n",
       "                        <td id=\"T_c57d5_row3_col1\" class=\"data row3 col1\" >52.380000</td>\n",
       "                        <td id=\"T_c57d5_row3_col2\" class=\"data row3 col2\" >-3.473153</td>\n",
       "            </tr>\n",
       "            <tr>\n",
       "                        <th id=\"T_c57d5_level0_row4\" class=\"row_heading level0 row4\" >4</th>\n",
       "                        <td id=\"T_c57d5_row4_col0\" class=\"data row4 col0\" >49.389895</td>\n",
       "                        <td id=\"T_c57d5_row4_col1\" class=\"data row4 col1\" >52.950000</td>\n",
       "                        <td id=\"T_c57d5_row4_col2\" class=\"data row4 col2\" >3.560105</td>\n",
       "            </tr>\n",
       "            <tr>\n",
       "                        <th id=\"T_c57d5_level0_row5\" class=\"row_heading level0 row5\" >5</th>\n",
       "                        <td id=\"T_c57d5_row5_col0\" class=\"data row5 col0\" >52.914789</td>\n",
       "                        <td id=\"T_c57d5_row5_col1\" class=\"data row5 col1\" >53.900000</td>\n",
       "                        <td id=\"T_c57d5_row5_col2\" class=\"data row5 col2\" >0.985211</td>\n",
       "            </tr>\n",
       "            <tr>\n",
       "                        <th id=\"T_c57d5_level0_row6\" class=\"row_heading level0 row6\" >6</th>\n",
       "                        <td id=\"T_c57d5_row6_col0\" class=\"data row6 col0\" >56.698380</td>\n",
       "                        <td id=\"T_c57d5_row6_col1\" class=\"data row6 col1\" >53.020000</td>\n",
       "                        <td id=\"T_c57d5_row6_col2\" class=\"data row6 col2\" >-3.678380</td>\n",
       "            </tr>\n",
       "            <tr>\n",
       "                        <th id=\"T_c57d5_level0_row7\" class=\"row_heading level0 row7\" >7</th>\n",
       "                        <td id=\"T_c57d5_row7_col0\" class=\"data row7 col0\" >52.312961</td>\n",
       "                        <td id=\"T_c57d5_row7_col1\" class=\"data row7 col1\" >50.950000</td>\n",
       "                        <td id=\"T_c57d5_row7_col2\" class=\"data row7 col2\" >-1.362961</td>\n",
       "            </tr>\n",
       "            <tr>\n",
       "                        <th id=\"T_c57d5_level0_row8\" class=\"row_heading level0 row8\" >8</th>\n",
       "                        <td id=\"T_c57d5_row8_col0\" class=\"data row8 col0\" >49.976783</td>\n",
       "                        <td id=\"T_c57d5_row8_col1\" class=\"data row8 col1\" >51.130000</td>\n",
       "                        <td id=\"T_c57d5_row8_col2\" class=\"data row8 col2\" >1.153217</td>\n",
       "            </tr>\n",
       "            <tr>\n",
       "                        <th id=\"T_c57d5_level0_row9\" class=\"row_heading level0 row9\" >9</th>\n",
       "                        <td id=\"T_c57d5_row9_col0\" class=\"data row9 col0\" >50.649745</td>\n",
       "                        <td id=\"T_c57d5_row9_col1\" class=\"data row9 col1\" >50.070000</td>\n",
       "                        <td id=\"T_c57d5_row9_col2\" class=\"data row9 col2\" >-0.579745</td>\n",
       "            </tr>\n",
       "    </tbody></table>"
      ],
      "text/plain": [
       "<pandas.io.formats.style.Styler at 0x22e96ccc5b0>"
      ]
     },
     "execution_count": 11,
     "metadata": {},
     "output_type": "execute_result"
    }
   ],
   "source": [
    "df[:10].style.bar(subset=['Delta'],align='mid',color=['#d65f5f', '#5fba7d'])"
   ]
  }
 ],
 "metadata": {
  "kernelspec": {
   "display_name": "Python 3",
   "language": "python",
   "name": "python3"
  },
  "language_info": {
   "codemirror_mode": {
    "name": "ipython",
    "version": 3
   },
   "file_extension": ".py",
   "mimetype": "text/x-python",
   "name": "python",
   "nbconvert_exporter": "python",
   "pygments_lexer": "ipython3",
   "version": "3.8.8"
  }
 },
 "nbformat": 4,
 "nbformat_minor": 5
}
